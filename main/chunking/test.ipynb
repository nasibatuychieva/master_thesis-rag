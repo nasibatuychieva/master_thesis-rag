{
 "cells": [
  {
   "cell_type": "code",
   "execution_count": 0,
   "metadata": {
    "application/vnd.databricks.v1+cell": {
     "cellMetadata": {
      "byteLimit": 2048000,
      "rowLimit": 10000
     },
     "inputWidgets": {},
     "nuid": "0ce0fc6c-17be-4f57-9a93-7442fdb91e17",
     "showTitle": false,
     "tableResultSettingsMap": {},
     "title": ""
    }
   },
   "outputs": [],
   "source": [
    "!pip install -U docling"
   ]
  },
  {
   "cell_type": "code",
   "execution_count": 0,
   "metadata": {
    "application/vnd.databricks.v1+cell": {
     "cellMetadata": {
      "byteLimit": 2048000,
      "rowLimit": 10000
     },
     "inputWidgets": {},
     "nuid": "eb0cb4e6-95d3-48c4-9817-ea64f1e21517",
     "showTitle": false,
     "tableResultSettingsMap": {},
     "title": ""
    }
   },
   "outputs": [],
   "source": [
    "import os\n",
    "from pathlib import Path\n",
    "import pandas as pd\n",
    "from docling.document_converter import DocumentConverter, PdfFormatOption\n"
   ]
  },
  {
   "cell_type": "code",
   "execution_count": 0,
   "metadata": {
    "application/vnd.databricks.v1+cell": {
     "cellMetadata": {
      "byteLimit": 2048000,
      "rowLimit": 10000
     },
     "inputWidgets": {},
     "nuid": "21d66529-c930-4829-9029-6ed17a3084ef",
     "showTitle": false,
     "tableResultSettingsMap": {},
     "title": ""
    }
   },
   "outputs": [],
   "source": [
    "root_path = Path.cwd()\n",
    "\n",
    "parent_path = root_path.parent.parent\n",
    "data_path = parent_path / \"out\" / \"Nano Family\" / \"docling_chunks.jsonl\"\n",
    "print(\"Data Path:\", data_path)"
   ]
  },
  {
   "cell_type": "code",
   "execution_count": 0,
   "metadata": {
    "application/vnd.databricks.v1+cell": {
     "cellMetadata": {
      "byteLimit": 2048000,
      "rowLimit": 10000
     },
     "inputWidgets": {},
     "nuid": "c6025554-3e77-49dd-9ed5-15efdb26f5c0",
     "showTitle": false,
     "tableResultSettingsMap": {},
     "title": ""
    }
   },
   "outputs": [],
   "source": [
    "from pathlib import Path\n",
    "import sys\n",
    "\n",
    "def add_project_root(levels_up: int = 1):\n",
    "    \"\"\"\n",
    "    Fügt den Projekt-Root (eine oder mehrere Ebenen über dem aktuellen Notebook)\n",
    "    zum Python-Suchpfad (sys.path) hinzu.\n",
    "\n",
    "    Standardmäßig geht es 1 Ebene nach oben:\n",
    "    z. B. von 'chunking/experiments/' → 'chunking/'\n",
    "    \"\"\"\n",
    "    root = Path.cwd()\n",
    "    for _ in range(levels_up):\n",
    "        root = root.parent  # geht jeweils eine Ebene nach oben\n",
    "    if str(root) not in sys.path:\n",
    "        sys.path.append(str(root))\n",
    "        print(f\"✅ Added project root to sys.path: {root}\")\n",
    "    else:\n",
    "        print(f\"ℹ️ Project root already in sys.path: {root}\")"
   ]
  },
  {
   "cell_type": "code",
   "execution_count": 0,
   "metadata": {
    "application/vnd.databricks.v1+cell": {
     "cellMetadata": {
      "byteLimit": 2048000,
      "rowLimit": 10000
     },
     "inputWidgets": {},
     "nuid": "8fa2d661-47a4-48be-8fc9-e5fdaab60f59",
     "showTitle": false,
     "tableResultSettingsMap": {},
     "title": ""
    }
   },
   "outputs": [],
   "source": [
    "add_project_root(1)"
   ]
  },
  {
   "cell_type": "code",
   "execution_count": 0,
   "metadata": {
    "application/vnd.databricks.v1+cell": {
     "cellMetadata": {
      "byteLimit": 2048000,
      "rowLimit": 10000
     },
     "inputWidgets": {},
     "nuid": "457dce99-338e-4409-b4d8-bcc05adce1e4",
     "showTitle": false,
     "tableResultSettingsMap": {},
     "title": ""
    }
   },
   "outputs": [],
   "source": [
    "doc_root = Path(\"/Workspace/Users/nasiba.tuychieva@gea.com/master_thesis-rag/main/chunking/experiments/Portenta Familiy/documents\")\n",
    "out_dir  = Path(\"/Workspace/Users/nasiba.tuychieva@gea.com/master_thesis-rag/main/chunking/experiments/Portenta Familiy/out\")\n",
    "print(doc_root)\n",
    "print(out_dir)"
   ]
  },
  {
   "cell_type": "code",
   "execution_count": 0,
   "metadata": {
    "application/vnd.databricks.v1+cell": {
     "cellMetadata": {
      "byteLimit": 2048000,
      "rowLimit": 10000
     },
     "inputWidgets": {},
     "nuid": "2acd1542-a37b-42cb-b213-716bcd599f19",
     "showTitle": false,
     "tableResultSettingsMap": {},
     "title": ""
    }
   },
   "outputs": [],
   "source": [
    "# pdf_path = Path(\"/Workspace/Users/nasiba.tuychieva@gea.com/master_thesis-rag/main/chunking/experiments/Portenta Familiy/documents/Portenta Family/Portenta C33/Espressif ESP32-C3-MINI-1U.pdf\")\n",
    "# category = pdf_path.parent.parent.name\n",
    "# product  = pdf_path.parent.name\n",
    "# filename = pdf_path.stem  # Dateiname ohne .pdf\n",
    "# parts = filename.split(\"_\")  # [\"Elements\", \"Bluetooth\", \"Espressif\", \"ESP32-C3-MINI-1U\"]\n",
    "\n",
    "# element = None\n",
    "# if parts and parts[0] == \"Elements\":\n",
    "#     # nehme die ersten zwei Wörter: Elements_Bluetooth\n",
    "#     element = \"_\".join(parts[:2])\n",
    "\n",
    "# print(element)"
   ]
  },
  {
   "cell_type": "code",
   "execution_count": 0,
   "metadata": {
    "application/vnd.databricks.v1+cell": {
     "cellMetadata": {
      "byteLimit": 2048000,
      "rowLimit": 10000
     },
     "inputWidgets": {},
     "nuid": "a3622918-2abf-4d1c-97c8-4bd3040a4fb8",
     "showTitle": false,
     "tableResultSettingsMap": {},
     "title": ""
    }
   },
   "outputs": [],
   "source": [
    "import importlib\n",
    "import process_document\n",
    "\n",
    "importlib.reload(process_document)"
   ]
  },
  {
   "cell_type": "code",
   "execution_count": 0,
   "metadata": {
    "application/vnd.databricks.v1+cell": {
     "cellMetadata": {
      "byteLimit": 2048000,
      "rowLimit": 10000
     },
     "inputWidgets": {},
     "nuid": "6f7c6ee6-7ba4-4d43-8ef2-3ec5bec17f05",
     "showTitle": false,
     "tableResultSettingsMap": {},
     "title": ""
    }
   },
   "outputs": [],
   "source": [
    "process_document.iterate_product_docs(doc_root = doc_root,out_dir = out_dir) "
   ]
  },
  {
   "cell_type": "code",
   "execution_count": 0,
   "metadata": {
    "application/vnd.databricks.v1+cell": {
     "cellMetadata": {
      "byteLimit": 2048000,
      "rowLimit": 10000
     },
     "inputWidgets": {},
     "nuid": "17b04f4e-ea2c-4ca4-8658-8c8330a6d9c1",
     "showTitle": false,
     "tableResultSettingsMap": {},
     "title": ""
    }
   },
   "outputs": [],
   "source": [
    "%pip install playwright\n",
    "!playwright install chromium"
   ]
  },
  {
   "cell_type": "code",
   "execution_count": 0,
   "metadata": {
    "application/vnd.databricks.v1+cell": {
     "cellMetadata": {
      "byteLimit": 2048000,
      "rowLimit": 10000
     },
     "inputWidgets": {},
     "nuid": "bbd29d11-596b-4a04-944f-09031c8ed18b",
     "showTitle": false,
     "tableResultSettingsMap": {},
     "title": ""
    }
   },
   "outputs": [],
   "source": [
    "out_html = \"/Workspace/Users/nasiba.tuychieva@gea.com/master_thesis-rag/main/chunking/experiments/Portenta Familiy/out\"\n",
    "p = \"/Workspace/Users/nasiba.tuychieva@gea.com/master_thesis-rag/main/chunking/experiments/Portenta Familiy/documents\"\n",
    "from pathlib import Path\n",
    "print(p)\n",
    "print(out_html)"
   ]
  },
  {
   "cell_type": "code",
   "execution_count": 0,
   "metadata": {
    "application/vnd.databricks.v1+cell": {
     "cellMetadata": {
      "byteLimit": 2048000,
      "rowLimit": 10000
     },
     "inputWidgets": {},
     "nuid": "629bc7ef-0ae0-497e-9593-6b93a447f3f3",
     "showTitle": false,
     "tableResultSettingsMap": {},
     "title": ""
    }
   },
   "outputs": [],
   "source": [
    "%run ../process_document_html.py"
   ]
  },
  {
   "cell_type": "code",
   "execution_count": 0,
   "metadata": {
    "application/vnd.databricks.v1+cell": {
     "cellMetadata": {
      "byteLimit": 2048000,
      "rowLimit": 10000
     },
     "inputWidgets": {},
     "nuid": "58ec0390-de1a-4312-9f08-d29c47403de7",
     "showTitle": false,
     "tableResultSettingsMap": {},
     "title": ""
    }
   },
   "outputs": [],
   "source": [
    "from process_document_html import iterate_product_docs"
   ]
  },
  {
   "cell_type": "code",
   "execution_count": 0,
   "metadata": {
    "application/vnd.databricks.v1+cell": {
     "cellMetadata": {
      "byteLimit": 2048000,
      "rowLimit": 10000
     },
     "inputWidgets": {},
     "nuid": "94a9705f-d9d6-46a1-8710-0439c6952666",
     "showTitle": false,
     "tableResultSettingsMap": {},
     "title": ""
    }
   },
   "outputs": [],
   "source": [
    "pdf_path =Path(p)\n",
    "category = pdf_path.parent.parent.name\n",
    "product  = pdf_path.parent.name\n",
    "filename = pdf_path.stem  # Dateiname ohne .pdf\n",
    "parts = filename.split(\"_\")  # [\"Elements\", \"Bluetooth\", \"Espressif\", \"ESP32-C3-MINI-1U\"]\n",
    "element = None\n",
    "if parts and parts[0] == \"Elements\":\n",
    "    element = \"_\".join(parts[:2])\n",
    "tutorial = None\n",
    "if parts and parts[0] == \"Tutorial\":\n",
    "    tutorial = \"_\".join(parts[:2])\n",
    "print(filename)"
   ]
  },
  {
   "cell_type": "code",
   "execution_count": 0,
   "metadata": {
    "application/vnd.databricks.v1+cell": {
     "cellMetadata": {
      "byteLimit": 2048000,
      "rowLimit": 10000
     },
     "inputWidgets": {},
     "nuid": "c3e7d2fe-70c5-4ff4-8e44-c35f47556f85",
     "showTitle": false,
     "tableResultSettingsMap": {},
     "title": ""
    }
   },
   "outputs": [],
   "source": [
    "iterate_product_docs(doc_root=Path(p), out_dir= Path(out_html))"
   ]
  },
  {
   "cell_type": "code",
   "execution_count": 0,
   "metadata": {
    "application/vnd.databricks.v1+cell": {
     "cellMetadata": {
      "byteLimit": 2048000,
      "rowLimit": 10000
     },
     "inputWidgets": {},
     "nuid": "360bd32f-ccd6-42cc-a6b1-f4e8837e4f03",
     "showTitle": false,
     "tableResultSettingsMap": {},
     "title": ""
    }
   },
   "outputs": [],
   "source": [
    "path = \"file:/Workspace/Users/nasiba.tuychieva@gea.com/master_thesis-rag/main/chunking/experiments/Portenta Familiy/out/Portenta Family/docling_chunks.jsonl\"\n",
    "df = spark.read.json(path)\n",
    "from pyspark.sql.functions import col, lit\n",
    "df.filter(col(\"chunk_id\").contains(\"Tutorial\")).display()"
   ]
  },
  {
   "cell_type": "code",
   "execution_count": 0,
   "metadata": {
    "application/vnd.databricks.v1+cell": {
     "cellMetadata": {
      "byteLimit": 2048000,
      "rowLimit": 10000
     },
     "inputWidgets": {},
     "nuid": "382d98b3-effa-43dc-a45b-b8ca6fbfe1c3",
     "showTitle": false,
     "tableResultSettingsMap": {},
     "title": ""
    }
   },
   "outputs": [],
   "source": [
    "# %pip install playwright\n",
    "# !playwright install chromium\n",
    "from bs4 import BeautifulSoup\n",
    "from pathlib import Path\n",
    "\n",
    "p = Path(p)\n",
    "html = p.read_text(encoding=\"utf-8\", errors=\"ignore\")\n",
    "soup = BeautifulSoup(html, \"html.parser\")\n",
    "\n",
    "# Skripte & Styles entfernen\n",
    "for tag in soup([\"script\", \"style\", \"noscript\"]):\n",
    "    tag.decompose()\n",
    "\n",
    "text = soup.get_text(separator=\"\\n\")\n",
    "clean = \"\\n\".join(line.strip() for line in text.splitlines() if line.strip())\n",
    "\n",
    "Path(out_html).write_text(clean, encoding=\"utf-8\")\n",
    "print(\"✅ cleaned static HTML written\")\n",
    "\n",
    "\n"
   ]
  },
  {
   "cell_type": "code",
   "execution_count": 0,
   "metadata": {
    "application/vnd.databricks.v1+cell": {
     "cellMetadata": {
      "byteLimit": 2048000,
      "rowLimit": 10000
     },
     "inputWidgets": {},
     "nuid": "c62717e2-e616-4293-9363-eda1b34df3ec",
     "showTitle": false,
     "tableResultSettingsMap": {},
     "title": ""
    }
   },
   "outputs": [],
   "source": [
    "from docling.document_converter import DocumentConverter\n",
    "doc = DocumentConverter().convert(out_html).document\n",
    "print(doc.export_to_markdown()[:1000])\n"
   ]
  },
  {
   "cell_type": "code",
   "execution_count": 0,
   "metadata": {
    "application/vnd.databricks.v1+cell": {
     "cellMetadata": {
      "byteLimit": 2048000,
      "rowLimit": 10000
     },
     "inputWidgets": {},
     "nuid": "26644a6f-577a-44ef-94f1-e8d276cd5aa2",
     "showTitle": false,
     "tableResultSettingsMap": {},
     "title": ""
    }
   },
   "outputs": [],
   "source": [
    "%pip install readability-lxml lxml\n",
    "from readability import Document\n",
    "from bs4 import BeautifulSoup\n",
    "\n",
    "html = Path(p).read_text(encoding=\"utf-8\", errors=\"ignore\")\n",
    "main_html = Document(html).summary()           # extrahiert den “Artikelkörper”\n",
    "soup = BeautifulSoup(main_html, \"lxml\")\n",
    "\n",
    "# Skripte/Styles weg\n",
    "for tag in soup([\"script\",\"style\",\"noscript\"]): tag.decompose()\n",
    "\n",
    "# <li> zu Sätzen bündeln\n",
    "for ul in soup.find_all([\"ul\",\"ol\"]):\n",
    "    items = [li.get_text(\" \", strip=True) for li in ul.find_all(\"li\")]\n",
    "    ul.replace_with( soup.new_tag(\"p\", **{}) )\n",
    "    ul.string = \". \".join(items) + \".\"\n",
    "\n",
    "text = soup.get_text(\"\\n\", strip=True)\n",
    "# Newlines normalisieren\n",
    "import re\n",
    "text = re.sub(r\"\\n{3,}\", \"\\n\\n\", text)\n",
    "print(text[:5000])\n"
   ]
  },
  {
   "cell_type": "code",
   "execution_count": 0,
   "metadata": {
    "application/vnd.databricks.v1+cell": {
     "cellMetadata": {
      "byteLimit": 2048000,
      "rowLimit": 10000
     },
     "inputWidgets": {},
     "nuid": "6bf76d4d-76e3-404a-968a-4dcde5289e48",
     "showTitle": false,
     "tableResultSettingsMap": {},
     "title": ""
    }
   },
   "outputs": [],
   "source": [
    "from bs4 import BeautifulSoup\n",
    "import re\n",
    "from pathlib import Path\n",
    "\n",
    "html = Path(p).read_text(encoding=\"utf-8\", errors=\"ignore\")\n",
    "soup = BeautifulSoup(html, \"lxml\")\n",
    "\n",
    "# Noise raus\n",
    "for tag in soup([\"script\",\"style\",\"noscript\",\"header\",\"footer\",\"nav\",\"aside\",\"form\",\"svg\"]):\n",
    "    tag.decompose()\n",
    "\n",
    "# Linebreaks vereinheitlichen\n",
    "for br in soup.find_all(\"br\"):\n",
    "    br.replace_with(\"\\n\")\n",
    "\n",
    "# Listen in Fließtext umwandeln\n",
    "for ul in soup.find_all([\"ul\",\"ol\"]):\n",
    "    items = [li.get_text(\" \", strip=True) for li in ul.find_all(\"li\", recursive=False)]\n",
    "    para = soup.new_tag(\"p\")\n",
    "    para.string = \". \".join(i for i in items if i) + \".\"\n",
    "    ul.replace_with(para)\n",
    "\n",
    "# Tabellen in Markdown-Zeilen (grob)\n",
    "def table_to_md(tbl):\n",
    "    rows = []\n",
    "    for tr in tbl.find_all(\"tr\"):\n",
    "        cells = [c.get_text(\" \", strip=True) for c in tr.find_all([\"th\",\"td\"])]\n",
    "        if cells: rows.append(\"| \" + \" | \".join(cells) + \" |\")\n",
    "    return \"\\n\".join(rows)\n",
    "\n",
    "for tbl in soup.find_all(\"table\"):\n",
    "    md = table_to_md(tbl)\n",
    "    tbl.replace_with(soup.new_string(md))\n",
    "\n",
    "# Fließtext holen & glätten\n",
    "text = soup.get_text(\"\\n\", strip=True)\n",
    "text = re.sub(r\"[ \\t]+\", \" \", text)\n",
    "text = re.sub(r\"\\n{3,}\", \"\\n\\n\", text)\n",
    "\n",
    "print(text[:50000])\n"
   ]
  },
  {
   "cell_type": "code",
   "execution_count": 0,
   "metadata": {
    "application/vnd.databricks.v1+cell": {
     "cellMetadata": {
      "byteLimit": 2048000,
      "rowLimit": 10000
     },
     "inputWidgets": {},
     "nuid": "cc8c01e0-2e77-40c4-8d24-45f5b8c6e00b",
     "showTitle": false,
     "tableResultSettingsMap": {},
     "title": ""
    }
   },
   "outputs": [],
   "source": [
    "%pip install lxml"
   ]
  },
  {
   "cell_type": "code",
   "execution_count": 0,
   "metadata": {
    "application/vnd.databricks.v1+cell": {
     "cellMetadata": {
      "byteLimit": 2048000,
      "rowLimit": 10000
     },
     "inputWidgets": {},
     "nuid": "17e85dcf-e8b2-4dca-865c-0b1c874454f8",
     "showTitle": false,
     "tableResultSettingsMap": {},
     "title": ""
    }
   },
   "outputs": [],
   "source": [
    "%restart_python"
   ]
  },
  {
   "cell_type": "code",
   "execution_count": 0,
   "metadata": {
    "application/vnd.databricks.v1+cell": {
     "cellMetadata": {
      "byteLimit": 2048000,
      "rowLimit": 10000
     },
     "inputWidgets": {},
     "nuid": "d3924ae4-c6f7-4df9-af82-6960d8bab7e8",
     "showTitle": false,
     "tableResultSettingsMap": {},
     "title": ""
    }
   },
   "outputs": [],
   "source": [
    "\n",
    "from bs4 import BeautifulSoup\n",
    "import re\n",
    "from pathlib import Path\n",
    "\n",
    "html = Path(p).read_text(encoding=\"utf-8\", errors=\"ignore\")\n",
    "soup = BeautifulSoup(html, \"lxml\")\n",
    "\n",
    "# Entferne unnötige Elemente\n",
    "for tag in soup([\"script\", \"style\", \"noscript\", \"header\", \"footer\", \"nav\", \"aside\", \"form\", \"svg\"]):\n",
    "    tag.decompose()\n",
    "\n",
    "# Konvertiere Codeblöcke in Markdown\n",
    "for pre in soup.find_all(\"pre\"):\n",
    "    code = pre.get_text(\"\\n\", strip=True)\n",
    "    pre.replace_with(\"\\n```\\n\" + code + \"\\n```\\n\")\n",
    "\n",
    "# Inline-Code (z. B. <code>setup()</code>)\n",
    "for c in soup.find_all(\"code\"):\n",
    "    txt = c.get_text(\" \", strip=True)\n",
    "    c.replace_with(f\"`{txt}`\")\n",
    "\n",
    "# Danach alles andere holen\n",
    "text = soup.get_text(\"\\n\", strip=True)\n",
    "text = re.sub(r\"\\n{3,}\", \"\\n\\n\", text)\n",
    "\n",
    "print(text[:1500])\n"
   ]
  },
  {
   "cell_type": "code",
   "execution_count": 0,
   "metadata": {
    "application/vnd.databricks.v1+cell": {
     "cellMetadata": {
      "byteLimit": 2048000,
      "rowLimit": 10000
     },
     "inputWidgets": {},
     "nuid": "f1d91ad1-eb57-467b-bfeb-5a4a126a1508",
     "showTitle": false,
     "tableResultSettingsMap": {},
     "title": ""
    }
   },
   "outputs": [],
   "source": [
    "%pip install docling"
   ]
  },
  {
   "cell_type": "code",
   "execution_count": 0,
   "metadata": {
    "application/vnd.databricks.v1+cell": {
     "cellMetadata": {
      "byteLimit": 2048000,
      "rowLimit": 10000
     },
     "inputWidgets": {},
     "nuid": "9081336e-9832-40bc-8324-c2f3358b574b",
     "showTitle": false,
     "tableResultSettingsMap": {},
     "title": ""
    }
   },
   "outputs": [],
   "source": [
    "from pathlib import Path\n",
    "from tempfile import NamedTemporaryFile\n",
    "from bs4 import BeautifulSoup\n",
    "import re\n",
    "\n",
    "# 1) HTML laden & bereinigen (deine Logik)\n",
    "raw_html = Path(p).read_text(encoding=\"utf-8\", errors=\"ignore\")\n",
    "soup = BeautifulSoup(raw_html, \"lxml\")\n",
    "\n",
    "# Noise entfernen\n",
    "for tag in soup([\"script\",\"style\",\"noscript\",\"header\",\"footer\",\"nav\",\"aside\",\"form\",\"svg\"]):\n",
    "    tag.decompose()\n",
    "\n",
    "# Codeblöcke in Markdown-Fences (bleiben als <pre> Text im HTML stehen)\n",
    "for pre in soup.find_all(\"pre\"):\n",
    "    code = pre.get_text(\"\\n\", strip=True)\n",
    "    pre.string = \"\\n```\\n\" + code + \"\\n```\\n\"   # Inhalt ersetzen, Tag bleibt\n",
    "\n",
    "# Inline-Code zu `code`\n",
    "for c in soup.find_all(\"code\"):\n",
    "    txt = c.get_text(\" \", strip=True)\n",
    "    c.string = f\"`{txt}`\"\n",
    "\n",
    "# Optional: überflüssige Leerzeilen in P/LI normalisieren\n",
    "for el in soup.find_all([\"p\",\"li\"]):\n",
    "    if el.string:\n",
    "        el.string.replace_with(re.sub(r\"\\s+\\n\\s+\", \"\\n\", el.string))\n",
    "\n",
    "clean_html = str(soup)  # <- WICHTIG: Struktur beibehalten!\n",
    "\n",
    "# 2) Docling-Dokument aus dem bereinigten HTML bauen\n",
    "\n",
    "with NamedTemporaryFile(\"w\", suffix=\".html\", delete=False, encoding=\"utf-8\") as tmp:\n",
    "    tmp.write(clean_html)\n",
    "    tmp_path = tmp.name\n",
    "from docling.document_converter import DocumentConverter\n",
    "converter = DocumentConverter()\n",
    "doc = converter.convert(tmp_path).document\n",
    "\n",
    "# 3) Chunker & Tokenizer wie gehabt wiederverwenden\n",
    "from docling_core.transforms.chunker.tokenizer.huggingface import HuggingFaceTokenizer\n",
    "from transformers import AutoTokenizer\n",
    "from docling.chunking import HybridChunker\n",
    "\n",
    "def return_tokenizer():\n",
    "    tok = AutoTokenizer.from_pretrained(\"sentence-transformers/all-MiniLM-L6-v2\")\n",
    "    return HuggingFaceTokenizer(tokenizer=tok, max_tokens=800)\n",
    "\n",
    "tokenizer = return_tokenizer()\n",
    "chunker = HybridChunker(tokenizer=tokenizer, merge_peers=True)\n",
    "\n",
    "chunks = list(chunker.chunk(dl_doc=doc))\n",
    "\n",
    "# Beispiel: ersten Kontext-Chunk anzeigen\n",
    "print(\"chunks:\", len(chunks))\n",
    "if chunks:\n",
    "    print(chunker.contextualize(chunk=chunks[0])[:800])\n"
   ]
  },
  {
   "cell_type": "code",
   "execution_count": 0,
   "metadata": {
    "application/vnd.databricks.v1+cell": {
     "cellMetadata": {
      "byteLimit": 2048000,
      "rowLimit": 10000
     },
     "inputWidgets": {},
     "nuid": "06382733-a1cc-4534-95f1-2a6036ac569a",
     "showTitle": false,
     "tableResultSettingsMap": {},
     "title": ""
    }
   },
   "outputs": [],
   "source": [
    "!pip install pikepdf\n",
    "import pikepdf\n",
    "with pikepdf.open(\"/Workspace/Users/nasiba.tuychieva@gea.com/master_thesis-rag/main/chunking/experiments/Portenta Familiy/documents/Portenta Family/Portenta C33/Espressif ESP32-C3-MINI-1U Wi-Fi and Bluetooth.pdf\") as pdf:\n",
    "    pdf.save(\"/Workspace/Users/nasiba.tuychieva@gea.com/master_thesis-rag/main/chunking/experiments/Portenta Familiy/documents/Portenta Family/Portenta C33/Espressif ESP32-C3-MINI-1U Wi-Fi and Bluetooth_repaired.pdf\")\n"
   ]
  },
  {
   "cell_type": "code",
   "execution_count": 0,
   "metadata": {
    "application/vnd.databricks.v1+cell": {
     "cellMetadata": {
      "byteLimit": 2048000,
      "rowLimit": 10000
     },
     "inputWidgets": {},
     "nuid": "a8bdc8c5-8cee-4ae8-b0e5-15caf76b2339",
     "showTitle": false,
     "tableResultSettingsMap": {
      "0": {
       "dataGridStateBlob": "{\"version\":1,\"tableState\":{\"columnPinning\":{\"left\":[\"#row_number#\"],\"right\":[]},\"columnSizing\":{},\"columnVisibility\":{}},\"settings\":{\"columns\":{}},\"syncTimestamp\":1761915307364}",
       "filterBlob": null,
       "queryPlanFiltersBlob": null,
       "tableResultIndex": 0
      }
     },
     "title": ""
    }
   },
   "outputs": [],
   "source": [
    "data_path = \"file:/Workspace/Users/nasiba.tuychieva@gea.com/master_thesis-rag/main/chunking/experiments/Portenta Familiy/out/Portenta Family/docling_chunks.jsonl\"\n",
    "df = spark.read.json(data_path)\n",
    "df.display()"
   ]
  },
  {
   "cell_type": "code",
   "execution_count": 0,
   "metadata": {
    "application/vnd.databricks.v1+cell": {
     "cellMetadata": {},
     "inputWidgets": {},
     "nuid": "780b9fea-ba32-48ec-a9af-1e174fa9b873",
     "showTitle": false,
     "tableResultSettingsMap": {},
     "title": ""
    }
   },
   "outputs": [],
   "source": [
    "df.info()"
   ]
  }
 ],
 "metadata": {
  "application/vnd.databricks.v1+notebook": {
   "computePreferences": null,
   "dashboards": [],
   "environmentMetadata": null,
   "inputWidgetPreferences": null,
   "language": "python",
   "notebookMetadata": {
    "pythonIndentUnit": 4
   },
   "notebookName": "test",
   "widgets": {}
  },
  "kernelspec": {
   "display_name": "Python 3",
   "language": "python",
   "name": "python3"
  },
  "language_info": {
   "name": "python"
  }
 },
 "nbformat": 4,
 "nbformat_minor": 0
}
