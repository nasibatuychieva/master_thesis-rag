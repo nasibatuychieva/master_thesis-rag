{
 "cells": [
  {
   "cell_type": "code",
   "execution_count": 11,
   "id": "882b11d8",
   "metadata": {},
   "outputs": [],
   "source": [
    "import os\n",
    "from pathlib import Path\n",
    "import pandas as pd\n",
    "\n"
   ]
  },
  {
   "cell_type": "code",
   "execution_count": null,
   "id": "471fc999",
   "metadata": {},
   "outputs": [
    {
     "name": "stdout",
     "output_type": "stream",
     "text": [
      "Root Path: c:\\Users\\Nasiba\\Documents\\1 Master Data Science\\Master Thesis\\VS Code New\\master_thesis-rag\\main\\chunking\\experiments\n",
      "Data Path: c:\\Users\\Nasiba\\Documents\\1 Master Data Science\\Master Thesis\\VS Code New\\master_thesis-rag\\main\\out\\Nano Family\\docling_chunks.jsonl\n",
      "c:\\Users\\Nasiba\\Documents\\1 Master Data Science\\Master Thesis\\VS Code New\\master_thesis-rag\\main\n"
     ]
    }
   ],
   "source": [
    "root_path = Path.cwd()\n",
    "\n",
    "parent_path = root_path.parent.parent\n",
    "data_path = parent_path / \"out\" / \"Nano Family\" / \"docling_chunks.jsonl\"\n",
    "print(\"Data Path:\", data_path)"
   ]
  },
  {
   "cell_type": "code",
   "execution_count": 14,
   "id": "afd2c09b",
   "metadata": {},
   "outputs": [
    {
     "data": {
      "text/html": [
       "<div>\n",
       "<style scoped>\n",
       "    .dataframe tbody tr th:only-of-type {\n",
       "        vertical-align: middle;\n",
       "    }\n",
       "\n",
       "    .dataframe tbody tr th {\n",
       "        vertical-align: top;\n",
       "    }\n",
       "\n",
       "    .dataframe thead th {\n",
       "        text-align: right;\n",
       "    }\n",
       "</style>\n",
       "<table border=\"1\" class=\"dataframe\">\n",
       "  <thead>\n",
       "    <tr style=\"text-align: right;\">\n",
       "      <th></th>\n",
       "      <th>category</th>\n",
       "      <th>chunk_id</th>\n",
       "      <th>chunk_size</th>\n",
       "      <th>chunk_type</th>\n",
       "      <th>product</th>\n",
       "      <th>section</th>\n",
       "      <th>semantic_density</th>\n",
       "      <th>text</th>\n",
       "      <th>total_chunks</th>\n",
       "    </tr>\n",
       "  </thead>\n",
       "  <tbody>\n",
       "    <tr>\n",
       "      <th>0</th>\n",
       "      <td>Nano Family</td>\n",
       "      <td>ABX00027-datasheet::c0</td>\n",
       "      <td>110</td>\n",
       "      <td>contextualized</td>\n",
       "      <td>Nano 33 IoT</td>\n",
       "      <td>NaN</td>\n",
       "      <td>0.2552</td>\n",
       "      <td>[Product: Nano 33 IoT] [Category: Nano Family]...</td>\n",
       "      <td>42</td>\n",
       "    </tr>\n",
       "    <tr>\n",
       "      <th>1</th>\n",
       "      <td>Nano Family</td>\n",
       "      <td>ABX00027-datasheet::c2</td>\n",
       "      <td>151</td>\n",
       "      <td>contextualized</td>\n",
       "      <td>Nano 33 IoT</td>\n",
       "      <td>NaN</td>\n",
       "      <td>0.2882</td>\n",
       "      <td>[Product: Nano 33 IoT] [Category: Nano Family]...</td>\n",
       "      <td>42</td>\n",
       "    </tr>\n",
       "  </tbody>\n",
       "</table>\n",
       "</div>"
      ],
      "text/plain": [
       "      category                chunk_id  chunk_size      chunk_type  \\\n",
       "0  Nano Family  ABX00027-datasheet::c0         110  contextualized   \n",
       "1  Nano Family  ABX00027-datasheet::c2         151  contextualized   \n",
       "\n",
       "       product  section  semantic_density  \\\n",
       "0  Nano 33 IoT      NaN            0.2552   \n",
       "1  Nano 33 IoT      NaN            0.2882   \n",
       "\n",
       "                                                text  total_chunks  \n",
       "0  [Product: Nano 33 IoT] [Category: Nano Family]...            42  \n",
       "1  [Product: Nano 33 IoT] [Category: Nano Family]...            42  "
      ]
     },
     "execution_count": 14,
     "metadata": {},
     "output_type": "execute_result"
    }
   ],
   "source": [
    "df = pd.read_json(data_path, lines=True)\n",
    "df.head(2)"
   ]
  },
  {
   "cell_type": "code",
   "execution_count": 15,
   "id": "432c4b1f",
   "metadata": {},
   "outputs": [
    {
     "name": "stdout",
     "output_type": "stream",
     "text": [
      "<class 'pandas.core.frame.DataFrame'>\n",
      "RangeIndex: 407 entries, 0 to 406\n",
      "Data columns (total 9 columns):\n",
      " #   Column            Non-Null Count  Dtype  \n",
      "---  ------            --------------  -----  \n",
      " 0   category          407 non-null    object \n",
      " 1   chunk_id          407 non-null    object \n",
      " 2   chunk_size        407 non-null    int64  \n",
      " 3   chunk_type        407 non-null    object \n",
      " 4   product           407 non-null    object \n",
      " 5   section           0 non-null      float64\n",
      " 6   semantic_density  407 non-null    float64\n",
      " 7   text              407 non-null    object \n",
      " 8   total_chunks      407 non-null    int64  \n",
      "dtypes: float64(2), int64(2), object(5)\n",
      "memory usage: 28.7+ KB\n"
     ]
    }
   ],
   "source": [
    "df.info()"
   ]
  }
 ],
 "metadata": {
  "kernelspec": {
   "display_name": "Python 3",
   "language": "python",
   "name": "python3"
  },
  "language_info": {
   "codemirror_mode": {
    "name": "ipython",
    "version": 3
   },
   "file_extension": ".py",
   "mimetype": "text/x-python",
   "name": "python",
   "nbconvert_exporter": "python",
   "pygments_lexer": "ipython3",
   "version": "3.11.9"
  }
 },
 "nbformat": 4,
 "nbformat_minor": 5
}
