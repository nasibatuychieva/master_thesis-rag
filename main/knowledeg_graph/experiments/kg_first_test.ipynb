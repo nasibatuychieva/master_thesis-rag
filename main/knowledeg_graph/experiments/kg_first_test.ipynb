{
 "cells": [
  {
   "cell_type": "code",
   "execution_count": 4,
   "id": "e2f6158c",
   "metadata": {},
   "outputs": [
    {
     "name": "stdout",
     "output_type": "stream",
     "text": [
      "Requirement already satisfied: neo4j in c:\\users\\nasiba\\appdata\\local\\packages\\pythonsoftwarefoundation.python.3.11_qbz5n2kfra8p0\\localcache\\local-packages\\python311\\site-packages (5.28.1)\n",
      "Requirement already satisfied: spacy in c:\\users\\nasiba\\appdata\\local\\packages\\pythonsoftwarefoundation.python.3.11_qbz5n2kfra8p0\\localcache\\local-packages\\python311\\site-packages (3.8.2)\n",
      "Requirement already satisfied: rapidfuzz in c:\\users\\nasiba\\appdata\\local\\packages\\pythonsoftwarefoundation.python.3.11_qbz5n2kfra8p0\\localcache\\local-packages\\python311\\site-packages (3.13.0)\n",
      "Requirement already satisfied: pytz in c:\\users\\nasiba\\appdata\\local\\packages\\pythonsoftwarefoundation.python.3.11_qbz5n2kfra8p0\\localcache\\local-packages\\python311\\site-packages (from neo4j) (2024.2)\n",
      "Requirement already satisfied: spacy-legacy<3.1.0,>=3.0.11 in c:\\users\\nasiba\\appdata\\local\\packages\\pythonsoftwarefoundation.python.3.11_qbz5n2kfra8p0\\localcache\\local-packages\\python311\\site-packages (from spacy) (3.0.12)\n",
      "Requirement already satisfied: spacy-loggers<2.0.0,>=1.0.0 in c:\\users\\nasiba\\appdata\\local\\packages\\pythonsoftwarefoundation.python.3.11_qbz5n2kfra8p0\\localcache\\local-packages\\python311\\site-packages (from spacy) (1.0.5)\n",
      "Requirement already satisfied: murmurhash<1.1.0,>=0.28.0 in c:\\users\\nasiba\\appdata\\local\\packages\\pythonsoftwarefoundation.python.3.11_qbz5n2kfra8p0\\localcache\\local-packages\\python311\\site-packages (from spacy) (1.0.10)\n",
      "Requirement already satisfied: cymem<2.1.0,>=2.0.2 in c:\\users\\nasiba\\appdata\\local\\packages\\pythonsoftwarefoundation.python.3.11_qbz5n2kfra8p0\\localcache\\local-packages\\python311\\site-packages (from spacy) (2.0.8)\n",
      "Requirement already satisfied: preshed<3.1.0,>=3.0.2 in c:\\users\\nasiba\\appdata\\local\\packages\\pythonsoftwarefoundation.python.3.11_qbz5n2kfra8p0\\localcache\\local-packages\\python311\\site-packages (from spacy) (3.0.9)\n",
      "Requirement already satisfied: thinc<8.4.0,>=8.3.0 in c:\\users\\nasiba\\appdata\\local\\packages\\pythonsoftwarefoundation.python.3.11_qbz5n2kfra8p0\\localcache\\local-packages\\python311\\site-packages (from spacy) (8.3.2)\n",
      "Requirement already satisfied: wasabi<1.2.0,>=0.9.1 in c:\\users\\nasiba\\appdata\\local\\packages\\pythonsoftwarefoundation.python.3.11_qbz5n2kfra8p0\\localcache\\local-packages\\python311\\site-packages (from spacy) (1.1.3)\n",
      "Requirement already satisfied: srsly<3.0.0,>=2.4.3 in c:\\users\\nasiba\\appdata\\local\\packages\\pythonsoftwarefoundation.python.3.11_qbz5n2kfra8p0\\localcache\\local-packages\\python311\\site-packages (from spacy) (2.4.8)\n",
      "Requirement already satisfied: catalogue<2.1.0,>=2.0.6 in c:\\users\\nasiba\\appdata\\local\\packages\\pythonsoftwarefoundation.python.3.11_qbz5n2kfra8p0\\localcache\\local-packages\\python311\\site-packages (from spacy) (2.0.10)\n",
      "Requirement already satisfied: weasel<0.5.0,>=0.1.0 in c:\\users\\nasiba\\appdata\\local\\packages\\pythonsoftwarefoundation.python.3.11_qbz5n2kfra8p0\\localcache\\local-packages\\python311\\site-packages (from spacy) (0.4.1)\n",
      "Requirement already satisfied: typer<1.0.0,>=0.3.0 in c:\\users\\nasiba\\appdata\\local\\packages\\pythonsoftwarefoundation.python.3.11_qbz5n2kfra8p0\\localcache\\local-packages\\python311\\site-packages (from spacy) (0.13.0)\n",
      "Requirement already satisfied: tqdm<5.0.0,>=4.38.0 in c:\\users\\nasiba\\appdata\\local\\packages\\pythonsoftwarefoundation.python.3.11_qbz5n2kfra8p0\\localcache\\local-packages\\python311\\site-packages (from spacy) (4.66.5)\n",
      "Requirement already satisfied: requests<3.0.0,>=2.13.0 in c:\\users\\nasiba\\appdata\\local\\packages\\pythonsoftwarefoundation.python.3.11_qbz5n2kfra8p0\\localcache\\local-packages\\python311\\site-packages (from spacy) (2.32.5)\n",
      "Requirement already satisfied: pydantic!=1.8,!=1.8.1,<3.0.0,>=1.7.4 in c:\\users\\nasiba\\appdata\\local\\packages\\pythonsoftwarefoundation.python.3.11_qbz5n2kfra8p0\\localcache\\local-packages\\python311\\site-packages (from spacy) (2.11.4)\n",
      "Requirement already satisfied: jinja2 in c:\\users\\nasiba\\appdata\\local\\packages\\pythonsoftwarefoundation.python.3.11_qbz5n2kfra8p0\\localcache\\local-packages\\python311\\site-packages (from spacy) (3.1.6)\n",
      "Requirement already satisfied: setuptools in c:\\program files\\windowsapps\\pythonsoftwarefoundation.python.3.11_3.11.2544.0_x64__qbz5n2kfra8p0\\lib\\site-packages (from spacy) (65.5.0)\n",
      "Requirement already satisfied: packaging>=20.0 in c:\\users\\nasiba\\appdata\\local\\packages\\pythonsoftwarefoundation.python.3.11_qbz5n2kfra8p0\\localcache\\local-packages\\python311\\site-packages (from spacy) (23.2)\n",
      "Requirement already satisfied: langcodes<4.0.0,>=3.2.0 in c:\\users\\nasiba\\appdata\\local\\packages\\pythonsoftwarefoundation.python.3.11_qbz5n2kfra8p0\\localcache\\local-packages\\python311\\site-packages (from spacy) (3.4.1)\n",
      "Requirement already satisfied: numpy>=1.19.0 in c:\\users\\nasiba\\appdata\\local\\packages\\pythonsoftwarefoundation.python.3.11_qbz5n2kfra8p0\\localcache\\local-packages\\python311\\site-packages (from spacy) (2.2.6)\n",
      "Requirement already satisfied: language-data>=1.2 in c:\\users\\nasiba\\appdata\\local\\packages\\pythonsoftwarefoundation.python.3.11_qbz5n2kfra8p0\\localcache\\local-packages\\python311\\site-packages (from langcodes<4.0.0,>=3.2.0->spacy) (1.2.0)\n",
      "Requirement already satisfied: annotated-types>=0.6.0 in c:\\users\\nasiba\\appdata\\local\\packages\\pythonsoftwarefoundation.python.3.11_qbz5n2kfra8p0\\localcache\\local-packages\\python311\\site-packages (from pydantic!=1.8,!=1.8.1,<3.0.0,>=1.7.4->spacy) (0.7.0)\n",
      "Requirement already satisfied: pydantic-core==2.33.2 in c:\\users\\nasiba\\appdata\\local\\packages\\pythonsoftwarefoundation.python.3.11_qbz5n2kfra8p0\\localcache\\local-packages\\python311\\site-packages (from pydantic!=1.8,!=1.8.1,<3.0.0,>=1.7.4->spacy) (2.33.2)\n",
      "Requirement already satisfied: typing-extensions>=4.12.2 in c:\\users\\nasiba\\appdata\\local\\packages\\pythonsoftwarefoundation.python.3.11_qbz5n2kfra8p0\\localcache\\local-packages\\python311\\site-packages (from pydantic!=1.8,!=1.8.1,<3.0.0,>=1.7.4->spacy) (4.13.2)\n",
      "Requirement already satisfied: typing-inspection>=0.4.0 in c:\\users\\nasiba\\appdata\\local\\packages\\pythonsoftwarefoundation.python.3.11_qbz5n2kfra8p0\\localcache\\local-packages\\python311\\site-packages (from pydantic!=1.8,!=1.8.1,<3.0.0,>=1.7.4->spacy) (0.4.0)\n",
      "Requirement already satisfied: charset_normalizer<4,>=2 in c:\\users\\nasiba\\appdata\\local\\packages\\pythonsoftwarefoundation.python.3.11_qbz5n2kfra8p0\\localcache\\local-packages\\python311\\site-packages (from requests<3.0.0,>=2.13.0->spacy) (3.3.1)\n",
      "Requirement already satisfied: idna<4,>=2.5 in c:\\users\\nasiba\\appdata\\local\\packages\\pythonsoftwarefoundation.python.3.11_qbz5n2kfra8p0\\localcache\\local-packages\\python311\\site-packages (from requests<3.0.0,>=2.13.0->spacy) (3.4)\n",
      "Requirement already satisfied: urllib3<3,>=1.21.1 in c:\\users\\nasiba\\appdata\\local\\packages\\pythonsoftwarefoundation.python.3.11_qbz5n2kfra8p0\\localcache\\local-packages\\python311\\site-packages (from requests<3.0.0,>=2.13.0->spacy) (2.0.7)\n",
      "Requirement already satisfied: certifi>=2017.4.17 in c:\\users\\nasiba\\appdata\\local\\packages\\pythonsoftwarefoundation.python.3.11_qbz5n2kfra8p0\\localcache\\local-packages\\python311\\site-packages (from requests<3.0.0,>=2.13.0->spacy) (2025.10.5)\n",
      "Requirement already satisfied: blis<1.1.0,>=1.0.0 in c:\\users\\nasiba\\appdata\\local\\packages\\pythonsoftwarefoundation.python.3.11_qbz5n2kfra8p0\\localcache\\local-packages\\python311\\site-packages (from thinc<8.4.0,>=8.3.0->spacy) (1.0.1)\n",
      "Requirement already satisfied: confection<1.0.0,>=0.0.1 in c:\\users\\nasiba\\appdata\\local\\packages\\pythonsoftwarefoundation.python.3.11_qbz5n2kfra8p0\\localcache\\local-packages\\python311\\site-packages (from thinc<8.4.0,>=8.3.0->spacy) (0.1.5)\n",
      "Collecting numpy>=1.19.0 (from spacy)\n",
      "  Using cached numpy-2.0.2-cp311-cp311-win_amd64.whl.metadata (59 kB)\n",
      "Requirement already satisfied: colorama in c:\\users\\nasiba\\appdata\\local\\packages\\pythonsoftwarefoundation.python.3.11_qbz5n2kfra8p0\\localcache\\local-packages\\python311\\site-packages (from tqdm<5.0.0,>=4.38.0->spacy) (0.4.6)\n",
      "Requirement already satisfied: click>=8.0.0 in c:\\users\\nasiba\\appdata\\local\\packages\\pythonsoftwarefoundation.python.3.11_qbz5n2kfra8p0\\localcache\\local-packages\\python311\\site-packages (from typer<1.0.0,>=0.3.0->spacy) (8.1.7)\n",
      "Requirement already satisfied: shellingham>=1.3.0 in c:\\users\\nasiba\\appdata\\local\\packages\\pythonsoftwarefoundation.python.3.11_qbz5n2kfra8p0\\localcache\\local-packages\\python311\\site-packages (from typer<1.0.0,>=0.3.0->spacy) (1.5.4)\n",
      "Requirement already satisfied: rich>=10.11.0 in c:\\users\\nasiba\\appdata\\local\\packages\\pythonsoftwarefoundation.python.3.11_qbz5n2kfra8p0\\localcache\\local-packages\\python311\\site-packages (from typer<1.0.0,>=0.3.0->spacy) (13.9.4)\n",
      "Requirement already satisfied: cloudpathlib<1.0.0,>=0.7.0 in c:\\users\\nasiba\\appdata\\local\\packages\\pythonsoftwarefoundation.python.3.11_qbz5n2kfra8p0\\localcache\\local-packages\\python311\\site-packages (from weasel<0.5.0,>=0.1.0->spacy) (0.20.0)\n",
      "Requirement already satisfied: smart-open<8.0.0,>=5.2.1 in c:\\users\\nasiba\\appdata\\local\\packages\\pythonsoftwarefoundation.python.3.11_qbz5n2kfra8p0\\localcache\\local-packages\\python311\\site-packages (from weasel<0.5.0,>=0.1.0->spacy) (7.0.5)\n",
      "Requirement already satisfied: MarkupSafe>=2.0 in c:\\users\\nasiba\\appdata\\local\\packages\\pythonsoftwarefoundation.python.3.11_qbz5n2kfra8p0\\localcache\\local-packages\\python311\\site-packages (from jinja2->spacy) (3.0.2)\n",
      "Requirement already satisfied: marisa-trie>=0.7.7 in c:\\users\\nasiba\\appdata\\local\\packages\\pythonsoftwarefoundation.python.3.11_qbz5n2kfra8p0\\localcache\\local-packages\\python311\\site-packages (from language-data>=1.2->langcodes<4.0.0,>=3.2.0->spacy) (1.2.1)\n",
      "Requirement already satisfied: markdown-it-py>=2.2.0 in c:\\users\\nasiba\\appdata\\local\\packages\\pythonsoftwarefoundation.python.3.11_qbz5n2kfra8p0\\localcache\\local-packages\\python311\\site-packages (from rich>=10.11.0->typer<1.0.0,>=0.3.0->spacy) (3.0.0)\n",
      "Requirement already satisfied: pygments<3.0.0,>=2.13.0 in c:\\users\\nasiba\\appdata\\local\\packages\\pythonsoftwarefoundation.python.3.11_qbz5n2kfra8p0\\localcache\\local-packages\\python311\\site-packages (from rich>=10.11.0->typer<1.0.0,>=0.3.0->spacy) (2.16.1)\n",
      "Requirement already satisfied: wrapt in c:\\users\\nasiba\\appdata\\local\\packages\\pythonsoftwarefoundation.python.3.11_qbz5n2kfra8p0\\localcache\\local-packages\\python311\\site-packages (from smart-open<8.0.0,>=5.2.1->weasel<0.5.0,>=0.1.0->spacy) (1.16.0)\n",
      "Requirement already satisfied: mdurl~=0.1 in c:\\users\\nasiba\\appdata\\local\\packages\\pythonsoftwarefoundation.python.3.11_qbz5n2kfra8p0\\localcache\\local-packages\\python311\\site-packages (from markdown-it-py>=2.2.0->rich>=10.11.0->typer<1.0.0,>=0.3.0->spacy) (0.1.2)\n",
      "Using cached numpy-2.0.2-cp311-cp311-win_amd64.whl (15.9 MB)\n",
      "Installing collected packages: numpy\n",
      "  Attempting uninstall: numpy\n",
      "    Found existing installation: numpy 2.2.6\n",
      "    Uninstalling numpy-2.2.6:\n",
      "      Successfully uninstalled numpy-2.2.6\n",
      "Successfully installed numpy-2.0.2\n"
     ]
    },
    {
     "name": "stderr",
     "output_type": "stream",
     "text": [
      "  WARNING: Failed to remove contents in a temporary directory 'C:\\Users\\Nasiba\\AppData\\Local\\Packages\\PythonSoftwareFoundation.Python.3.11_qbz5n2kfra8p0\\LocalCache\\local-packages\\Python311\\site-packages\\~~mpy.libs'.\n",
      "  You can safely remove it manually.\n",
      "  WARNING: Failed to remove contents in a temporary directory 'C:\\Users\\Nasiba\\AppData\\Local\\Packages\\PythonSoftwareFoundation.Python.3.11_qbz5n2kfra8p0\\LocalCache\\local-packages\\Python311\\site-packages\\~~mpy'.\n",
      "  You can safely remove it manually.\n",
      "ERROR: pip's dependency resolver does not currently take into account all the packages that are installed. This behaviour is the source of the following dependency conflicts.\n",
      "gensim 4.3.3 requires numpy<2.0,>=1.18.5, but you have numpy 2.0.2 which is incompatible.\n",
      "\n",
      "[notice] A new release of pip is available: 24.3.1 -> 25.3\n",
      "[notice] To update, run: C:\\Users\\Nasiba\\AppData\\Local\\Microsoft\\WindowsApps\\PythonSoftwareFoundation.Python.3.11_qbz5n2kfra8p0\\python.exe -m pip install --upgrade pip\n"
     ]
    }
   ],
   "source": [
    "!pip install neo4j spacy rapidfuzz"
   ]
  },
  {
   "cell_type": "code",
   "execution_count": 7,
   "id": "96d3049b",
   "metadata": {},
   "outputs": [
    {
     "name": "stdout",
     "output_type": "stream",
     "text": [
      "Collecting en-core-web-sm==3.8.0\n",
      "  Downloading https://github.com/explosion/spacy-models/releases/download/en_core_web_sm-3.8.0/en_core_web_sm-3.8.0-py3-none-any.whl (12.8 MB)\n",
      "     ---------------------------------------- 0.0/12.8 MB ? eta -:--:--\n",
      "     -- ------------------------------------- 0.8/12.8 MB 8.5 MB/s eta 0:00:02\n",
      "     ------- -------------------------------- 2.4/12.8 MB 6.1 MB/s eta 0:00:02\n",
      "     ------------------ --------------------- 5.8/12.8 MB 10.1 MB/s eta 0:00:01\n",
      "     ----------------------------- ---------- 9.4/12.8 MB 11.7 MB/s eta 0:00:01\n",
      "     --------------------------------------  12.6/12.8 MB 12.7 MB/s eta 0:00:01\n",
      "     --------------------------------------- 12.8/12.8 MB 10.9 MB/s eta 0:00:00\n",
      "\u001b[38;5;2m✔ Download and installation successful\u001b[0m\n",
      "You can now load the package via spacy.load('en_core_web_sm')\n"
     ]
    },
    {
     "name": "stderr",
     "output_type": "stream",
     "text": [
      "\n",
      "[notice] A new release of pip is available: 24.3.1 -> 25.3\n",
      "[notice] To update, run: C:\\Users\\Nasiba\\AppData\\Local\\Microsoft\\WindowsApps\\PythonSoftwareFoundation.Python.3.11_qbz5n2kfra8p0\\python.exe -m pip install --upgrade pip\n"
     ]
    }
   ],
   "source": [
    "!python -m spacy download en_core_web_sm"
   ]
  },
  {
   "cell_type": "code",
   "execution_count": 1,
   "id": "d83aafa8",
   "metadata": {},
   "outputs": [],
   "source": [
    "\n",
    "from neo4j import GraphDatabase\n",
    "driver = GraphDatabase.driver(\"bolt://localhost:7687\", auth=(\"neo4j\", \"testmaster123\"))\n"
   ]
  },
  {
   "cell_type": "code",
   "execution_count": 5,
   "id": "a5737375",
   "metadata": {},
   "outputs": [
    {
     "name": "stdout",
     "output_type": "stream",
     "text": [
      "Schema erstellt.\n"
     ]
    }
   ],
   "source": [
    "with driver.session() as s:\n",
    "    s.run(\"CREATE CONSTRAINT ent_name IF NOT EXISTS FOR (n:Entity) REQUIRE n.name IS UNIQUE\")\n",
    "    s.run(\"CREATE CONSTRAINT doc_id IF NOT EXISTS FOR (n:Document) REQUIRE n.id IS UNIQUE\")\n",
    "    s.run(\"CREATE FULLTEXT INDEX doc_text_fts IF NOT EXISTS FOR (d:Document) ON EACH [d.text]\")\n",
    "print(\"Schema erstellt.\")\n"
   ]
  },
  {
   "cell_type": "code",
   "execution_count": 11,
   "id": "983dc74e",
   "metadata": {},
   "outputs": [
    {
     "name": "stdout",
     "output_type": "stream",
     "text": [
      "Alte Demo-Knoten entfernt.\n"
     ]
    }
   ],
   "source": [
    "with driver.session() as s:\n",
    "    s.run(\"MATCH (n:Entity) DETACH DELETE n\")\n",
    "    s.run(\"MATCH (n:Document) DETACH DELETE n\")\n",
    "print(\"Alte Demo-Knoten entfernt.\")\n"
   ]
  },
  {
   "cell_type": "code",
   "execution_count": 2,
   "id": "c2112302",
   "metadata": {},
   "outputs": [
    {
     "name": "stdout",
     "output_type": "stream",
     "text": [
      "JSONL geladen → Document-Knoten erstellt.\n"
     ]
    }
   ],
   "source": [
    "cypher_load = \"\"\"\n",
    "CALL apoc.load.json('file:///docling_chunks.jsonl')\n",
    "YIELD value AS v\n",
    "WITH v\n",
    "MERGE (d:Document {id: coalesce(v.chunk_id, v.id)})\n",
    "SET d.text     = v.text,\n",
    "    d.product  = v.product,\n",
    "    d.category = v.category,\n",
    "    d.doc_type = v.chunk_type,\n",
    "    d.source   = coalesce(v.source, v.path),\n",
    "    d.page     = v.page,\n",
    "    d.section  = v.section\n",
    "\"\"\"\n",
    "with driver.session() as s:\n",
    "    s.run(cypher_load)\n",
    "print(\"JSONL geladen → Document-Knoten erstellt.\")\n"
   ]
  },
  {
   "cell_type": "code",
   "execution_count": 3,
   "id": "2ff11e5c",
   "metadata": {},
   "outputs": [
    {
     "name": "stdout",
     "output_type": "stream",
     "text": [
      "JSONL geladen → Document-Knoten erstellt.\n"
     ]
    }
   ],
   "source": [
    "\n",
    "\n",
    "cypher_load = \"\"\"\n",
    "MATCH (d:Document)\n",
    "WHERE d.category = \"Portenta Family\"\n",
    "MERGE (c:Category {name: d.category})\n",
    "MERGE (p:Product {name: d.product})\n",
    "MERGE (p)-[:BELONGS_TO]->(c)\n",
    "MERGE (p)-[:DESCRIBED_IN]->(d);\n",
    "\"\"\"\n",
    "with driver.session() as s:\n",
    "    s.run(cypher_load)\n",
    "print(\"JSONL geladen → Document-Knoten erstellt.\")"
   ]
  },
  {
   "cell_type": "code",
   "execution_count": 8,
   "id": "ca2547b8",
   "metadata": {},
   "outputs": [
    {
     "name": "stdout",
     "output_type": "stream",
     "text": [
      "Category/Product/Dokument verbunden.\n"
     ]
    }
   ],
   "source": [
    "from neo4j import GraphDatabase\n",
    "driver = GraphDatabase.driver(\"bolt://localhost:7687\", auth=(\"neo4j\",\"testmaster123\"))\n",
    "\n",
    "with driver.session() as s:\n",
    "    # Constraints (sicher einzeln ausführen)\n",
    "    s.run(\"CREATE CONSTRAINT IF NOT EXISTS FOR (n:Category) REQUIRE n.name IS UNIQUE\")\n",
    "    s.run(\"CREATE CONSTRAINT IF NOT EXISTS FOR (n:Product)  REQUIRE n.name IS UNIQUE\")\n",
    "\n",
    "    # Verknüpfungen anlegen\n",
    "    s.run(\"\"\"\n",
    "    MATCH (d:Document)\n",
    "    WHERE d.product IS NOT NULL AND d.category IS NOT NULL\n",
    "    MERGE (c:Category {name:d.category})\n",
    "    MERGE (p:Product  {name:d.product})\n",
    "    MERGE (p)-[:BELONGS_TO]->(c)\n",
    "    MERGE (p)-[:DESCRIBED_IN]->(d)\n",
    "    \"\"\")\n",
    "print(\"Category/Product/Dokument verbunden.\")\n"
   ]
  },
  {
   "cell_type": "code",
   "execution_count": 16,
   "id": "7a20bb6f",
   "metadata": {},
   "outputs": [
    {
     "name": "stdout",
     "output_type": "stream",
     "text": [
      "Regelbasierte Kanten/Specs erzeugt.\n"
     ]
    }
   ],
   "source": [
    "import re\n",
    "\n",
    "INTERFACES = {\"i2c\",\"spi\",\"uart\",\"pwm\",\"analog\",\"digital\",\"can\",\"ethernet\",\"usb\",\"wifi\",\"bluetooth\",\"ble\"}\n",
    "spec_patterns = [\n",
    "    r\"(operating voltage)\\s*[:\\-]?\\s*([\\d\\.,]+)\\s*([a-zA-Z°]+)?\",\n",
    "    r\"(input voltage)\\s*[:\\-]?\\s*([\\d\\.,]+)\\s*([a-zA-Z°]+)?\",\n",
    "    r\"(clock(?: speed)?)\\s*[:\\-]?\\s*([\\d\\.,]+)\\s*(mhz|khz|hz)\",\n",
    "    r\"(analog inputs?)\\s*[:\\-]?\\s*([\\d]+)\",\n",
    "    r\"(digital (?:i\\/o|pins?))\\s*[:\\-]?\\s*([\\d]+)\",\n",
    "]\n",
    "UNIT_MAP = {\"v\":\"V\",\"mv\":\"mV\",\"a\":\"A\",\"ma\":\"mA\",\"hz\":\"Hz\",\"khz\":\"kHz\",\"mhz\":\"MHz\",\"°c\":\"°C\",\"c\":\"°C\"}\n",
    "\n",
    "def norm_unit(u): \n",
    "    if not u: return \"\"\n",
    "    u = u.strip().lower()\n",
    "    return UNIT_MAP.get(u, u)\n",
    "\n",
    "with driver.session() as s:\n",
    "    # Interfaces\n",
    "    s.run(\"\"\"\n",
    "    MATCH (p:Product)-[:DESCRIBED_IN]->(d:Document)\n",
    "    WITH p,d, toLower(d.text) AS txt\n",
    "    WITH p,d, [iface IN $ifaces WHERE txt =~ ('.*\\\\b'+iface+'\\\\b.*')] AS hits\n",
    "    UNWIND hits AS iface\n",
    "    MERGE (i:Interface {name: toUpper(iface)})\n",
    "    MERGE (p)-[r:SUPPORTS_INTERFACE]->(i)\n",
    "    ON CREATE SET r.source='text_rule', r.confidence=0.8, r.evidence=[d.id]\n",
    "    ON MATCH  SET r.evidence=apoc.coll.toSet(coalesce(r.evidence,[])+d.id),\n",
    "                 r.confidence=CASE WHEN r.confidence<0.8 THEN 0.8 ELSE r.confidence END\n",
    "    \"\"\", {\"ifaces\": list(INTERFACES)})\n",
    "\n",
    "    # Specs\n",
    "    for pat in spec_patterns:\n",
    "        query = \"\"\"\n",
    "    MATCH (p:Product)-[:DESCRIBED_IN]->(d:Document)\n",
    "    WITH p,d, apoc.text.regexGroups(d.text, $pat) AS matches\n",
    "    UNWIND matches AS value\n",
    "    // value[0] = gesamter Treffer; Gruppen beginnen bei 1: (key, value, unit?)\n",
    "    WITH p,d,\n",
    "         apoc.text.capitalizeAll(trim(value[1]))              AS k,\n",
    "         trim(value[2])                                       AS v,\n",
    "         trim(coalesce(value[3], ''))                         AS u\n",
    "    MERGE (s:Spec {id: p.name + ':' + k + ':' + v + ':' + u})\n",
    "    ON CREATE SET s.key = k, s.value = v, s.unit = u\n",
    "    MERGE (p)-[:HAS_SPEC]->(s)\n",
    "    \"\"\"\n",
    "        with driver.session() as s:\n",
    "            s.run(query, {\"pat\": pat})\n",
    "\n",
    "    print(\"Regelbasierte Kanten/Specs erzeugt.\")\n",
    "\n",
    "\n",
    "\n",
    "\n"
   ]
  },
  {
   "cell_type": "code",
   "execution_count": 17,
   "id": "4eebdbf4",
   "metadata": {},
   "outputs": [
    {
     "name": "stdout",
     "output_type": "stream",
     "text": [
      "spaCy-basierte CANDIDATE_USES erzeugt (wo Trigger & Komponenten erkannt wurden).\n"
     ]
    }
   ],
   "source": [
    "import spacy\n",
    "from rapidfuzz import fuzz\n",
    "\n",
    "nlp = spacy.load(\"en_core_web_sm\")\n",
    "TRIGGERS = [\"use\", \"uses\", \"used with\", \"include\", \"includes\", \"compatible with\", \"supports\", \"secure element\", \"co-processor\"]\n",
    "\n",
    "# kleine Gazetteer für bekannte Komponenten (kannst du erweitern)\n",
    "COMPONENT_ALIASES = {\n",
    "    \"se050c2\": \"SE050C2 IoT Secure Element\",\n",
    "    \"se050\": \"SE050C2 IoT Secure Element\",\n",
    "    \"nina-w10\": \"u-blox NINA-W10\",\n",
    "}\n",
    "\n",
    "def canonical_component(toktext: str) -> str|None:\n",
    "    t = toktext.lower()\n",
    "    best,score = None,0\n",
    "    for alias,canon in COMPONENT_ALIASES.items():\n",
    "        sc = fuzz.partial_ratio(alias, t)\n",
    "        if sc>score:\n",
    "            best,score = canon, sc\n",
    "    return best if score>=85 else None\n",
    "\n",
    "# hole Dokumente aus Neo4j, verarbeite in Python, schreibe Kanten zurück\n",
    "with driver.session() as s:\n",
    "    docs = s.run(\"\"\"\n",
    "    MATCH (p:Product)-[:DESCRIBED_IN]->(d:Document)\n",
    "    RETURN p.name AS product, d.id AS cid, d.text AS text\n",
    "    \"\"\").data()\n",
    "\n",
    "for row in docs:\n",
    "    product, cid, text = row[\"product\"], row[\"cid\"], row[\"text\"] or \"\"\n",
    "    if not text: continue\n",
    "    doc = nlp(text)\n",
    "\n",
    "    # 1) Trigger vorhanden?\n",
    "    txt_low = text.lower()\n",
    "    if not any(t in txt_low for t in TRIGGERS):\n",
    "        continue\n",
    "\n",
    "    # 2) Entitäten-Kandidaten (PROPN/ORG/PRODUCT)\n",
    "    cand_names = set()\n",
    "    for ent in doc.ents:\n",
    "        if ent.label_ in {\"ORG\",\"PRODUCT\"}:\n",
    "            cand_names.add(ent.text)\n",
    "    # zusätzlich simple NounChunks aufnehmen\n",
    "    for nc in doc.noun_chunks:\n",
    "        if any(c.isupper() for c in nc.text if c.isalpha()) and len(nc.text) <= 40:\n",
    "            cand_names.add(nc.text)\n",
    "\n",
    "    # 3) Canonical-Mapping + Eintrag\n",
    "    for name in cand_names:\n",
    "        comp = canonical_component(name)\n",
    "        if not comp:\n",
    "            continue\n",
    "        with driver.session() as s:\n",
    "            s.run(\"\"\"\n",
    "            MERGE (p:Product {name:$product})\n",
    "            MERGE (c:Component {name:$comp})\n",
    "            MERGE (p)-[r:CANDIDATE_USES]->(c)\n",
    "            ON CREATE SET r.source='spacy+triggers', r.confidence=0.7, r.evidence=[$cid]\n",
    "            ON MATCH  SET r.evidence=apoc.coll.toSet(coalesce(r.evidence,[])+$cid),\n",
    "                         r.confidence=CASE WHEN r.confidence<0.7 THEN 0.7 ELSE r.confidence END\n",
    "            \"\"\", {\"product\": product, \"comp\": comp, \"cid\": cid})\n",
    "\n",
    "print(\"spaCy-basierte CANDIDATE_USES erzeugt (wo Trigger & Komponenten erkannt wurden).\")\n"
   ]
  }
 ],
 "metadata": {
  "kernelspec": {
   "display_name": "Python 3",
   "language": "python",
   "name": "python3"
  },
  "language_info": {
   "codemirror_mode": {
    "name": "ipython",
    "version": 3
   },
   "file_extension": ".py",
   "mimetype": "text/x-python",
   "name": "python",
   "nbconvert_exporter": "python",
   "pygments_lexer": "ipython3",
   "version": "3.11.9"
  }
 },
 "nbformat": 4,
 "nbformat_minor": 5
}
